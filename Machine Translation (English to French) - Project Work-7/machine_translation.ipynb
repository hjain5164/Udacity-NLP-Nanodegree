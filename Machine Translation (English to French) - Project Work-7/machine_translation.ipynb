{
 "cells": [
  {
   "cell_type": "markdown",
   "metadata": {
    "collapsed": true
   },
   "source": [
    "# Artificial Intelligence Nanodegree\n",
    "## Machine Translation Project\n",
    "In this notebook, sections that end with **'(IMPLEMENTATION)'** in the header indicate that the following blocks of code will require additional functionality which you must provide. Please be sure to read the instructions carefully!\n",
    "\n",
    "## Introduction\n",
    "In this notebook, you will build a deep neural network that functions as part of an end-to-end machine translation pipeline. Your completed pipeline will accept English text as input and return the French translation.\n",
    "\n",
    "- **Preprocess** - You'll convert text to sequence of integers.\n",
    "- **Models** Create models which accepts a sequence of integers as input and returns a probability distribution over possible translations. After learning about the basic types of neural networks that are often used for machine translation, you will engage in your own investigations, to design your own model!\n",
    "- **Prediction** Run the model on English text."
   ]
  },
  {
   "cell_type": "code",
   "execution_count": 1,
   "metadata": {},
   "outputs": [],
   "source": [
    "%load_ext autoreload\n",
    "%aimport helper, tests\n",
    "%autoreload 1"
   ]
  },
  {
   "cell_type": "code",
   "execution_count": 2,
   "metadata": {},
   "outputs": [
    {
     "name": "stderr",
     "output_type": "stream",
     "text": [
      "Using TensorFlow backend.\n"
     ]
    }
   ],
   "source": [
    "import collections\n",
    "\n",
    "import helper\n",
    "import numpy as np\n",
    "import project_tests as tests\n",
    "\n",
    "from keras.preprocessing.text import Tokenizer\n",
    "from keras.preprocessing.sequence import pad_sequences\n",
    "from keras.models import Model\n",
    "from keras.layers import GRU, Input, Dense, TimeDistributed, Activation, RepeatVector, Bidirectional\n",
    "from keras.layers.embeddings import Embedding\n",
    "from keras.optimizers import Adam\n",
    "from keras.losses import sparse_categorical_crossentropy"
   ]
  },
  {
   "cell_type": "markdown",
   "metadata": {},
   "source": [
    "### Verify access to the GPU\n",
    "The following test applies only if you expect to be using a GPU, e.g., while running in a Udacity Workspace or using an AWS instance with GPU support. Run the next cell, and verify that the device_type is \"GPU\".\n",
    "- If the device is not GPU & you are running from a Udacity Workspace, then save your workspace with the icon at the top, then click \"enable\" at the bottom of the workspace.\n",
    "- If the device is not GPU & you are running from an AWS instance, then refer to the cloud computing instructions in the classroom to verify your setup steps."
   ]
  },
  {
   "cell_type": "code",
   "execution_count": 3,
   "metadata": {},
   "outputs": [
    {
     "name": "stdout",
     "output_type": "stream",
     "text": [
      "[name: \"/cpu:0\"\n",
      "device_type: \"CPU\"\n",
      "memory_limit: 268435456\n",
      "locality {\n",
      "}\n",
      "incarnation: 5799356863719414343\n",
      ", name: \"/gpu:0\"\n",
      "device_type: \"GPU\"\n",
      "memory_limit: 357367808\n",
      "locality {\n",
      "  bus_id: 1\n",
      "}\n",
      "incarnation: 14649244815085983430\n",
      "physical_device_desc: \"device: 0, name: Tesla K80, pci bus id: 0000:00:04.0\"\n",
      "]\n"
     ]
    }
   ],
   "source": [
    "from tensorflow.python.client import device_lib\n",
    "print(device_lib.list_local_devices())"
   ]
  },
  {
   "cell_type": "markdown",
   "metadata": {},
   "source": [
    "## Dataset\n",
    "We begin by investigating the dataset that will be used to train and evaluate your pipeline.  The most common datasets used for machine translation are from [WMT](http://www.statmt.org/).  However, that will take a long time to train a neural network on.  We'll be using a dataset we created for this project that contains a small vocabulary.  You'll be able to train your model in a reasonable time with this dataset.\n",
    "### Load Data\n",
    "The data is located in `data/small_vocab_en` and `data/small_vocab_fr`. The `small_vocab_en` file contains English sentences with their French translations in the `small_vocab_fr` file. Load the English and French data from these files from running the cell below."
   ]
  },
  {
   "cell_type": "code",
   "execution_count": 4,
   "metadata": {},
   "outputs": [
    {
     "name": "stdout",
     "output_type": "stream",
     "text": [
      "Dataset Loaded\n"
     ]
    }
   ],
   "source": [
    "# Load English data\n",
    "english_sentences = helper.load_data('data/small_vocab_en')\n",
    "# Load French data\n",
    "french_sentences = helper.load_data('data/small_vocab_fr')\n",
    "\n",
    "print('Dataset Loaded')"
   ]
  },
  {
   "cell_type": "markdown",
   "metadata": {},
   "source": [
    "### Files\n",
    "Each line in `small_vocab_en` contains an English sentence with the respective translation in each line of `small_vocab_fr`.  View the first two lines from each file."
   ]
  },
  {
   "cell_type": "code",
   "execution_count": 5,
   "metadata": {},
   "outputs": [
    {
     "name": "stdout",
     "output_type": "stream",
     "text": [
      "small_vocab_en Line 1:  new jersey is sometimes quiet during autumn , and it is snowy in april .\n",
      "small_vocab_fr Line 1:  new jersey est parfois calme pendant l' automne , et il est neigeux en avril .\n",
      "small_vocab_en Line 2:  the united states is usually chilly during july , and it is usually freezing in november .\n",
      "small_vocab_fr Line 2:  les états-unis est généralement froid en juillet , et il gèle habituellement en novembre .\n"
     ]
    }
   ],
   "source": [
    "for sample_i in range(2):\n",
    "    print('small_vocab_en Line {}:  {}'.format(sample_i + 1, english_sentences[sample_i]))\n",
    "    print('small_vocab_fr Line {}:  {}'.format(sample_i + 1, french_sentences[sample_i]))"
   ]
  },
  {
   "cell_type": "markdown",
   "metadata": {},
   "source": [
    "From looking at the sentences, you can see they have been preprocessed already.  The puncuations have been delimited using spaces. All the text have been converted to lowercase.  This should save you some time, but the text requires more preprocessing.\n",
    "### Vocabulary\n",
    "The complexity of the problem is determined by the complexity of the vocabulary.  A more complex vocabulary is a more complex problem.  Let's look at the complexity of the dataset we'll be working with."
   ]
  },
  {
   "cell_type": "code",
   "execution_count": 6,
   "metadata": {},
   "outputs": [
    {
     "name": "stdout",
     "output_type": "stream",
     "text": [
      "1823250 English words.\n",
      "227 unique English words.\n",
      "10 Most common words in the English dataset:\n",
      "\"is\" \",\" \".\" \"in\" \"it\" \"during\" \"the\" \"but\" \"and\" \"sometimes\"\n",
      "\n",
      "1961295 French words.\n",
      "355 unique French words.\n",
      "10 Most common words in the French dataset:\n",
      "\"est\" \".\" \",\" \"en\" \"il\" \"les\" \"mais\" \"et\" \"la\" \"parfois\"\n"
     ]
    }
   ],
   "source": [
    "english_words_counter = collections.Counter([word for sentence in english_sentences for word in sentence.split()])\n",
    "french_words_counter = collections.Counter([word for sentence in french_sentences for word in sentence.split()])\n",
    "\n",
    "print('{} English words.'.format(len([word for sentence in english_sentences for word in sentence.split()])))\n",
    "print('{} unique English words.'.format(len(english_words_counter)))\n",
    "print('10 Most common words in the English dataset:')\n",
    "print('\"' + '\" \"'.join(list(zip(*english_words_counter.most_common(10)))[0]) + '\"')\n",
    "print()\n",
    "print('{} French words.'.format(len([word for sentence in french_sentences for word in sentence.split()])))\n",
    "print('{} unique French words.'.format(len(french_words_counter)))\n",
    "print('10 Most common words in the French dataset:')\n",
    "print('\"' + '\" \"'.join(list(zip(*french_words_counter.most_common(10)))[0]) + '\"')"
   ]
  },
  {
   "cell_type": "markdown",
   "metadata": {},
   "source": [
    "For comparison, _Alice's Adventures in Wonderland_ contains 2,766 unique words of a total of 15,500 words.\n",
    "## Preprocess\n",
    "For this project, you won't use text data as input to your model. Instead, you'll convert the text into sequences of integers using the following preprocess methods:\n",
    "1. Tokenize the words into ids\n",
    "2. Add padding to make all the sequences the same length.\n",
    "\n",
    "Time to start preprocessing the data...\n",
    "### Tokenize (IMPLEMENTATION)\n",
    "For a neural network to predict on text data, it first has to be turned into data it can understand. Text data like \"dog\" is a sequence of ASCII character encodings.  Since a neural network is a series of multiplication and addition operations, the input data needs to be number(s).\n",
    "\n",
    "We can turn each character into a number or each word into a number.  These are called character and word ids, respectively.  Character ids are used for character level models that generate text predictions for each character.  A word level model uses word ids that generate text predictions for each word.  Word level models tend to learn better, since they are lower in complexity, so we'll use those.\n",
    "\n",
    "Turn each sentence into a sequence of words ids using Keras's [`Tokenizer`](https://keras.io/preprocessing/text/#tokenizer) function. Use this function to tokenize `english_sentences` and `french_sentences` in the cell below.\n",
    "\n",
    "Running the cell will run `tokenize` on sample data and show output for debugging."
   ]
  },
  {
   "cell_type": "code",
   "execution_count": 7,
   "metadata": {},
   "outputs": [
    {
     "name": "stdout",
     "output_type": "stream",
     "text": [
      "{'the': 1, 'quick': 2, 'a': 3, 'brown': 4, 'fox': 5, 'jumps': 6, 'over': 7, 'lazy': 8, 'dog': 9, 'by': 10, 'jove': 11, 'my': 12, 'study': 13, 'of': 14, 'lexicography': 15, 'won': 16, 'prize': 17, 'this': 18, 'is': 19, 'short': 20, 'sentence': 21}\n",
      "\n",
      "Sequence 1 in x\n",
      "  Input:  The quick brown fox jumps over the lazy dog .\n",
      "  Output: [1, 2, 4, 5, 6, 7, 1, 8, 9]\n",
      "Sequence 2 in x\n",
      "  Input:  By Jove , my quick study of lexicography won a prize .\n",
      "  Output: [10, 11, 12, 2, 13, 14, 15, 16, 3, 17]\n",
      "Sequence 3 in x\n",
      "  Input:  This is a short sentence .\n",
      "  Output: [18, 19, 3, 20, 21]\n"
     ]
    }
   ],
   "source": [
    "def tokenize(x):\n",
    "    \"\"\"\n",
    "    Tokenize x\n",
    "    :param x: List of sentences/strings to be tokenized\n",
    "    :return: Tuple of (tokenized x data, tokenizer used to tokenize x)\n",
    "    \"\"\"\n",
    "    x_tk = Tokenizer()\n",
    "    x_tk.fit_on_texts(x)\n",
    "    return x_tk.texts_to_sequences(x), x_tk\n",
    "\n",
    "\n",
    "tests.test_tokenize(tokenize)\n",
    "\n",
    "# Tokenize Example output\n",
    "text_sentences = [\n",
    "    'The quick brown fox jumps over the lazy dog .',\n",
    "    'By Jove , my quick study of lexicography won a prize .',\n",
    "    'This is a short sentence .']\n",
    "text_tokenized, text_tokenizer = tokenize(text_sentences)\n",
    "print(text_tokenizer.word_index)\n",
    "print()\n",
    "for sample_i, (sent, token_sent) in enumerate(zip(text_sentences, text_tokenized)):\n",
    "    print('Sequence {} in x'.format(sample_i + 1))\n",
    "    print('  Input:  {}'.format(sent))\n",
    "    print('  Output: {}'.format(token_sent))"
   ]
  },
  {
   "cell_type": "markdown",
   "metadata": {},
   "source": [
    "### Padding (IMPLEMENTATION)\n",
    "When batching the sequence of word ids together, each sequence needs to be the same length.  Since sentences are dynamic in length, we can add padding to the end of the sequences to make them the same length.\n",
    "\n",
    "Make sure all the English sequences have the same length and all the French sequences have the same length by adding padding to the **end** of each sequence using Keras's [`pad_sequences`](https://keras.io/preprocessing/sequence/#pad_sequences) function."
   ]
  },
  {
   "cell_type": "code",
   "execution_count": 8,
   "metadata": {},
   "outputs": [
    {
     "name": "stdout",
     "output_type": "stream",
     "text": [
      "Sequence 1 in x\n",
      "  Input:  [1 2 4 5 6 7 1 8 9]\n",
      "  Output: [1 2 4 5 6 7 1 8 9 0]\n",
      "Sequence 2 in x\n",
      "  Input:  [10 11 12  2 13 14 15 16  3 17]\n",
      "  Output: [10 11 12  2 13 14 15 16  3 17]\n",
      "Sequence 3 in x\n",
      "  Input:  [18 19  3 20 21]\n",
      "  Output: [18 19  3 20 21  0  0  0  0  0]\n"
     ]
    }
   ],
   "source": [
    "def pad(x, length=None):\n",
    "    \"\"\"\n",
    "    Pad x\n",
    "    :param x: List of sequences.\n",
    "    :param length: Length to pad the sequence to.  If None, use length of longest sequence in x.\n",
    "    :return: Padded numpy array of sequences\n",
    "    \"\"\"\n",
    "    if length is None:\n",
    "        # Find the length of the longest sequence/sentence\n",
    "        length = max([len(seq) for seq in x])\n",
    "    \n",
    "    return pad_sequences(sequences=x, maxlen=length, padding='post')\n",
    "\n",
    "\n",
    "tests.test_pad(pad)\n",
    "\n",
    "# Pad Tokenized output\n",
    "test_pad = pad(text_tokenized)\n",
    "for sample_i, (token_sent, pad_sent) in enumerate(zip(text_tokenized, test_pad)):\n",
    "    print('Sequence {} in x'.format(sample_i + 1))\n",
    "    print('  Input:  {}'.format(np.array(token_sent)))\n",
    "    print('  Output: {}'.format(pad_sent))"
   ]
  },
  {
   "cell_type": "markdown",
   "metadata": {},
   "source": [
    "### Preprocess Pipeline\n",
    "Your focus for this project is to build neural network architecture, so we won't ask you to create a preprocess pipeline.  Instead, we've provided you with the implementation of the `preprocess` function."
   ]
  },
  {
   "cell_type": "code",
   "execution_count": 9,
   "metadata": {},
   "outputs": [
    {
     "name": "stdout",
     "output_type": "stream",
     "text": [
      "Data Preprocessed\n",
      "Max English sentence length: 15\n",
      "Max French sentence length: 21\n",
      "English vocabulary size: 199\n",
      "French vocabulary size: 344\n"
     ]
    }
   ],
   "source": [
    "def preprocess(x, y):\n",
    "    \"\"\"\n",
    "    Preprocess x and y\n",
    "    :param x: Feature List of sentences\n",
    "    :param y: Label List of sentences\n",
    "    :return: Tuple of (Preprocessed x, Preprocessed y, x tokenizer, y tokenizer)\n",
    "    \"\"\"\n",
    "    preprocess_x, x_tk = tokenize(x)\n",
    "    preprocess_y, y_tk = tokenize(y)\n",
    "\n",
    "    preprocess_x = pad(preprocess_x)\n",
    "    preprocess_y = pad(preprocess_y)\n",
    "\n",
    "    # Keras's sparse_categorical_crossentropy function requires the labels to be in 3 dimensions\n",
    "    preprocess_y = preprocess_y.reshape(*preprocess_y.shape, 1)\n",
    "\n",
    "    return preprocess_x, preprocess_y, x_tk, y_tk\n",
    "\n",
    "preproc_english_sentences, preproc_french_sentences, english_tokenizer, french_tokenizer =\\\n",
    "    preprocess(english_sentences, french_sentences)\n",
    "    \n",
    "max_english_sequence_length = preproc_english_sentences.shape[1]\n",
    "max_french_sequence_length = preproc_french_sentences.shape[1]\n",
    "english_vocab_size = len(english_tokenizer.word_index)\n",
    "french_vocab_size = len(french_tokenizer.word_index)\n",
    "\n",
    "print('Data Preprocessed')\n",
    "print(\"Max English sentence length:\", max_english_sequence_length)\n",
    "print(\"Max French sentence length:\", max_french_sequence_length)\n",
    "print(\"English vocabulary size:\", english_vocab_size)\n",
    "print(\"French vocabulary size:\", french_vocab_size)"
   ]
  },
  {
   "cell_type": "markdown",
   "metadata": {},
   "source": [
    "## Models\n",
    "In this section, you will experiment with various neural network architectures.\n",
    "You will begin by training four relatively simple architectures.\n",
    "- Model 1 is a simple RNN\n",
    "- Model 2 is a RNN with Embedding\n",
    "- Model 3 is a Bidirectional RNN\n",
    "- Model 4 is an optional Encoder-Decoder RNN\n",
    "\n",
    "After experimenting with the four simple architectures, you will construct a deeper architecture that is designed to outperform all four models.\n",
    "### Ids Back to Text\n",
    "The neural network will be translating the input to words ids, which isn't the final form we want.  We want the French translation.  The function `logits_to_text` will bridge the gab between the logits from the neural network to the French translation.  You'll be using this function to better understand the output of the neural network."
   ]
  },
  {
   "cell_type": "code",
   "execution_count": 10,
   "metadata": {},
   "outputs": [
    {
     "name": "stdout",
     "output_type": "stream",
     "text": [
      "`logits_to_text` function loaded.\n"
     ]
    }
   ],
   "source": [
    "def logits_to_text(logits, tokenizer):\n",
    "    \"\"\"\n",
    "    Turn logits from a neural network into text using the tokenizer\n",
    "    :param logits: Logits from a neural network\n",
    "    :param tokenizer: Keras Tokenizer fit on the labels\n",
    "    :return: String that represents the text of the logits\n",
    "    \"\"\"\n",
    "    index_to_words = {id: word for word, id in tokenizer.word_index.items()}\n",
    "    index_to_words[0] = '<PAD>'\n",
    "\n",
    "    return ' '.join([index_to_words[prediction] for prediction in np.argmax(logits, 1)])\n",
    "\n",
    "print('`logits_to_text` function loaded.')"
   ]
  },
  {
   "cell_type": "markdown",
   "metadata": {},
   "source": [
    "### Model 1: RNN (IMPLEMENTATION)\n",
    "![RNN](images/rnn.png)\n",
    "A basic RNN model is a good baseline for sequence data.  In this model, you'll build a RNN that translates English to French."
   ]
  },
  {
   "cell_type": "code",
   "execution_count": 11,
   "metadata": {},
   "outputs": [
    {
     "name": "stdout",
     "output_type": "stream",
     "text": [
      "Train on 110288 samples, validate on 27573 samples\n",
      "Epoch 1/10\n",
      "110288/110288 [==============================] - 12s 109us/step - loss: 2.7136 - acc: 0.4657 - val_loss: nan - val_acc: 0.5367\n",
      "Epoch 2/10\n",
      "110288/110288 [==============================] - 10s 91us/step - loss: 1.7808 - acc: 0.5705 - val_loss: nan - val_acc: 0.5939\n",
      "Epoch 3/10\n",
      "110288/110288 [==============================] - 10s 91us/step - loss: 1.5191 - acc: 0.6033 - val_loss: nan - val_acc: 0.6140\n",
      "Epoch 4/10\n",
      "110288/110288 [==============================] - 10s 91us/step - loss: 1.3929 - acc: 0.6220 - val_loss: nan - val_acc: 0.6333\n",
      "Epoch 5/10\n",
      "110288/110288 [==============================] - 10s 92us/step - loss: 1.3003 - acc: 0.6372 - val_loss: nan - val_acc: 0.6445\n",
      "Epoch 6/10\n",
      "110288/110288 [==============================] - 10s 91us/step - loss: 1.2260 - acc: 0.6482 - val_loss: nan - val_acc: 0.6515\n",
      "Epoch 7/10\n",
      "110288/110288 [==============================] - 10s 92us/step - loss: 1.1722 - acc: 0.6554 - val_loss: nan - val_acc: 0.6606\n",
      "Epoch 8/10\n",
      "110288/110288 [==============================] - 10s 91us/step - loss: 1.1306 - acc: 0.6630 - val_loss: nan - val_acc: 0.6665\n",
      "Epoch 9/10\n",
      "110288/110288 [==============================] - 10s 91us/step - loss: 1.0974 - acc: 0.6688 - val_loss: nan - val_acc: 0.6691\n",
      "Epoch 10/10\n",
      "110288/110288 [==============================] - 10s 92us/step - loss: 1.0688 - acc: 0.6725 - val_loss: nan - val_acc: 0.6763\n",
      "new jersey est parfois calme en mois et il il il est en en <PAD> <PAD> <PAD> <PAD> <PAD> <PAD> <PAD>\n"
     ]
    }
   ],
   "source": [
    "def simple_model(input_shape, output_sequence_length, english_vocab_size, french_vocab_size):\n",
    "    \"\"\"\n",
    "    Build and train a basic RNN on x and y\n",
    "    :param input_shape: Tuple of input shape\n",
    "    :param output_sequence_length: Length of output sequence\n",
    "    :param english_vocab_size: Number of unique English words in the dataset\n",
    "    :param french_vocab_size: Number of unique French words in the dataset\n",
    "    :return: Keras model built, but not trained\n",
    "    \"\"\"\n",
    "    # TODO: Build the layers\n",
    "    input_seq = Input(shape=input_shape[1:])\n",
    "    rnn = GRU(units=english_vocab_size, return_sequences=True)(input_seq)\n",
    "    logits = TimeDistributed(Dense(units=french_vocab_size))(rnn) \n",
    "                             \n",
    "    model = Model(input_seq, Activation('softmax')(logits))\n",
    "\n",
    "    model.compile(loss=sparse_categorical_crossentropy,\n",
    "                  optimizer=Adam(lr=1e-3),\n",
    "                  metrics=['accuracy'])\n",
    "    return model\n",
    "tests.test_simple_model(simple_model)\n",
    "\n",
    "# Reshaping the input to work with a basic RNN\n",
    "tmp_x = pad(preproc_english_sentences, max_french_sequence_length)\n",
    "tmp_x = tmp_x.reshape((-1, preproc_french_sentences.shape[-2], 1))\n",
    "\n",
    "# Train the neural network\n",
    "simple_rnn_model = simple_model(\n",
    "    tmp_x.shape,\n",
    "    max_french_sequence_length,\n",
    "    english_vocab_size,\n",
    "    french_vocab_size)\n",
    "simple_rnn_model.fit(tmp_x, preproc_french_sentences, batch_size=1024, epochs=10, validation_split=0.2)\n",
    "\n",
    "# Print prediction(s)\n",
    "print(logits_to_text(simple_rnn_model.predict(tmp_x[:1])[0], french_tokenizer))"
   ]
  },
  {
   "cell_type": "markdown",
   "metadata": {},
   "source": [
    "### Model 2: Embedding (IMPLEMENTATION)\n",
    "![RNN](images/embedding.png)\n",
    "You've turned the words into ids, but there's a better representation of a word.  This is called word embeddings.  An embedding is a vector representation of the word that is close to similar words in n-dimensional space, where the n represents the size of the embedding vectors.\n",
    "\n",
    "In this model, you'll create a RNN model using embedding."
   ]
  },
  {
   "cell_type": "code",
   "execution_count": 12,
   "metadata": {},
   "outputs": [
    {
     "name": "stdout",
     "output_type": "stream",
     "text": [
      "Train on 110288 samples, validate on 27573 samples\n",
      "Epoch 1/10\n",
      "110288/110288 [==============================] - 12s 112us/step - loss: 3.2535 - acc: 0.4253 - val_loss: 2.5256 - val_acc: 0.4779\n",
      "Epoch 2/10\n",
      "110288/110288 [==============================] - 12s 107us/step - loss: 2.0557 - acc: 0.5449 - val_loss: 1.5353 - val_acc: 0.6305\n",
      "Epoch 3/10\n",
      "110288/110288 [==============================] - 12s 108us/step - loss: 1.3062 - acc: 0.6843 - val_loss: 1.0999 - val_acc: 0.7369\n",
      "Epoch 4/10\n",
      "110288/110288 [==============================] - 12s 107us/step - loss: 0.9505 - acc: 0.7634 - val_loss: 0.8139 - val_acc: 0.7889\n",
      "Epoch 5/10\n",
      "110288/110288 [==============================] - 12s 108us/step - loss: 0.7179 - acc: 0.8075 - val_loss: 0.6322 - val_acc: 0.8255\n",
      "Epoch 6/10\n",
      "110288/110288 [==============================] - 12s 108us/step - loss: 0.5714 - acc: 0.8387 - val_loss: 0.5315 - val_acc: 0.8469\n",
      "Epoch 7/10\n",
      "110288/110288 [==============================] - 12s 108us/step - loss: 0.4808 - acc: 0.8608 - val_loss: 0.4426 - val_acc: 0.8711\n",
      "Epoch 8/10\n",
      "110288/110288 [==============================] - 12s 108us/step - loss: 0.4215 - acc: 0.8754 - val_loss: 0.3928 - val_acc: 0.8841\n",
      "Epoch 9/10\n",
      "110288/110288 [==============================] - 12s 108us/step - loss: 0.3750 - acc: 0.8871 - val_loss: 0.3566 - val_acc: 0.8914\n",
      "Epoch 10/10\n",
      "110288/110288 [==============================] - 12s 108us/step - loss: 0.3455 - acc: 0.8938 - val_loss: 0.3308 - val_acc: 0.8989\n",
      "new jersey est parfois calme au l' de et il et en en <PAD> <PAD> <PAD> <PAD> <PAD> <PAD> <PAD> <PAD>\n"
     ]
    }
   ],
   "source": [
    "def embed_model(input_shape, output_sequence_length, english_vocab_size, french_vocab_size):\n",
    "    \"\"\"\n",
    "    Build and train a RNN model using word embedding on x and y\n",
    "    :param input_shape: Tuple of input shape\n",
    "    :param output_sequence_length: Length of output sequence\n",
    "    :param english_vocab_size: Number of unique English words in the dataset\n",
    "    :param french_vocab_size: Number of unique French words in the dataset\n",
    "    :return: Keras model built, but not trained\n",
    "    \"\"\"\n",
    "    # Hyperparameters\n",
    "    embedding_size = 128\n",
    "    rnn_cells = 200\n",
    "    dropout = 0.0\n",
    "    learning_rate = 1e-3\n",
    "    \n",
    "    input_seq = Input(shape=input_shape[1:])\n",
    "     \n",
    "    embedded_seq = Embedding(input_dim = english_vocab_size, \n",
    "                             output_dim = embedding_size,\n",
    "                             input_length=input_shape[1:][0])(input_seq)\n",
    "    \n",
    "    rnn = GRU(units=rnn_cells, dropout=dropout, return_sequences=True)(embedded_seq)\n",
    "    logits = TimeDistributed(Dense(units=french_vocab_size))(rnn) \n",
    "    model = Model(input_seq, Activation('softmax')(logits))\n",
    "    model.compile(loss=sparse_categorical_crossentropy,\n",
    "                  optimizer=Adam(lr=learning_rate),\n",
    "                  metrics=['accuracy'])\n",
    "    return model    \n",
    "    \n",
    "tests.test_embed_model(embed_model)\n",
    "\n",
    "\n",
    "# Pad the input to work with the Embedding layer\n",
    "tmp_x = pad(preproc_english_sentences, max_french_sequence_length)\n",
    "\n",
    "# Train the neural network \n",
    "embed_rnn_model = embed_model(input_shape = tmp_x.shape,\n",
    "                              output_sequence_length = max_french_sequence_length,\n",
    "                              english_vocab_size = english_vocab_size+1,\n",
    "                              french_vocab_size = french_vocab_size+1)\n",
    "\n",
    "\n",
    "embed_rnn_model.fit(tmp_x, preproc_french_sentences, batch_size=1024, epochs=10, validation_split=0.2)\n",
    "\n",
    "# Print prediction(s)\n",
    "print(logits_to_text(embed_rnn_model.predict(tmp_x[:1])[0], french_tokenizer))"
   ]
  },
  {
   "cell_type": "markdown",
   "metadata": {},
   "source": [
    "### Model 3: Bidirectional RNNs (IMPLEMENTATION)\n",
    "![RNN](images/bidirectional.png)\n",
    "One restriction of a RNN is that it can't see the future input, only the past.  This is where bidirectional recurrent neural networks come in.  They are able to see the future data."
   ]
  },
  {
   "cell_type": "code",
   "execution_count": 13,
   "metadata": {},
   "outputs": [
    {
     "name": "stdout",
     "output_type": "stream",
     "text": [
      "Train on 110288 samples, validate on 27573 samples\n",
      "Epoch 1/10\n",
      "110288/110288 [==============================] - 17s 155us/step - loss: 2.5685 - acc: 0.4767 - val_loss: 1.8911 - val_acc: 0.5616\n",
      "Epoch 2/10\n",
      "110288/110288 [==============================] - 16s 150us/step - loss: 1.6623 - acc: 0.5848 - val_loss: 1.5152 - val_acc: 0.6028\n",
      "Epoch 3/10\n",
      "110288/110288 [==============================] - 16s 149us/step - loss: 1.4314 - acc: 0.6155 - val_loss: 1.3592 - val_acc: 0.6282\n",
      "Epoch 4/10\n",
      "110288/110288 [==============================] - 17s 150us/step - loss: 1.3044 - acc: 0.6366 - val_loss: 1.2523 - val_acc: 0.6419\n",
      "Epoch 5/10\n",
      "110288/110288 [==============================] - 17s 150us/step - loss: 1.2169 - acc: 0.6478 - val_loss: 1.1862 - val_acc: 0.6536\n",
      "Epoch 6/10\n",
      "110288/110288 [==============================] - 17s 150us/step - loss: 1.1575 - acc: 0.6579 - val_loss: 1.1301 - val_acc: 0.6654\n",
      "Epoch 7/10\n",
      "110288/110288 [==============================] - 17s 150us/step - loss: 1.1077 - acc: 0.6664 - val_loss: 1.0843 - val_acc: 0.6691\n",
      "Epoch 8/10\n",
      "110288/110288 [==============================] - 17s 150us/step - loss: 1.0679 - acc: 0.6710 - val_loss: 1.0474 - val_acc: 0.6719\n",
      "Epoch 9/10\n",
      "110288/110288 [==============================] - 17s 150us/step - loss: 1.0314 - acc: 0.6756 - val_loss: 1.0115 - val_acc: 0.6821\n",
      "Epoch 10/10\n",
      "110288/110288 [==============================] - 17s 150us/step - loss: 0.9990 - acc: 0.6807 - val_loss: 0.9893 - val_acc: 0.6772\n",
      "new jersey est parfois calme en mois et il est est en en <PAD> <PAD> <PAD> <PAD> <PAD> <PAD> <PAD> <PAD>\n"
     ]
    }
   ],
   "source": [
    "from keras.layers import concatenate, add\n",
    "def bd_model(input_shape, output_sequence_length, english_vocab_size, french_vocab_size):\n",
    "    \"\"\"\n",
    "    Build and train a bidirectional RNN model on x and y\n",
    "    :param input_shape: Tuple of input shape\n",
    "    :param output_sequence_length: Length of output sequence\n",
    "    :param english_vocab_size: Number of unique English words in the dataset\n",
    "    :param french_vocab_size: Number of unique French words in the dataset\n",
    "    :return: Keras model built, but not trained\n",
    "    \"\"\"\n",
    "    dropout = 0.0\n",
    "    learning_rate = 1e-3\n",
    "        \n",
    "    input_seq = Input(shape=input_shape[1:])\n",
    "    right_rnn = GRU(units=english_vocab_size, return_sequences=True, go_backwards=False)(input_seq)\n",
    "    left_rnn = GRU(units=english_vocab_size, return_sequences=True, go_backwards=True)(input_seq)\n",
    "    # Merge 2 rnn layers using concatenate()\n",
    "    logits = TimeDistributed(Dense(units=french_vocab_size))(concatenate([right_rnn, left_rnn])) \n",
    "\n",
    "    model = Model(input_seq, Activation('softmax')(logits))\n",
    "\n",
    "    model.compile(loss=sparse_categorical_crossentropy,\n",
    "                  optimizer=Adam(lr=learning_rate),\n",
    "                  metrics=['accuracy'])\n",
    "  \n",
    "    return model\n",
    "   \n",
    "tests.test_bd_model(bd_model)\n",
    "\n",
    "\n",
    "# TODO: Train and Print prediction(s)\n",
    "\n",
    "tmp_x = pad(preproc_english_sentences, max_french_sequence_length)\n",
    "tmp_x = tmp_x.reshape((-1, preproc_french_sentences.shape[-2], 1))\n",
    "\n",
    "# Train the neural network \n",
    "bd_rnn_model = bd_model(input_shape = tmp_x.shape,\n",
    "                           output_sequence_length = max_french_sequence_length,\n",
    "                           english_vocab_size = english_vocab_size+1,\n",
    "                           french_vocab_size = french_vocab_size+1)\n",
    "\n",
    "bd_rnn_model.fit(tmp_x, preproc_french_sentences, batch_size=1024, epochs=10, validation_split=0.2)\n",
    "\n",
    "# Print prediction(s)\n",
    "print(logits_to_text(bd_rnn_model.predict(tmp_x[:1])[0], french_tokenizer))"
   ]
  },
  {
   "cell_type": "markdown",
   "metadata": {},
   "source": [
    "### Model 4: Encoder-Decoder (OPTIONAL)\n",
    "Time to look at encoder-decoder models.  This model is made up of an encoder and decoder. The encoder creates a matrix representation of the sentence.  The decoder takes this matrix as input and predicts the translation as output.\n",
    "\n",
    "Create an encoder-decoder model in the cell below."
   ]
  },
  {
   "cell_type": "code",
   "execution_count": 14,
   "metadata": {},
   "outputs": [
    {
     "name": "stdout",
     "output_type": "stream",
     "text": [
      "Train on 110288 samples, validate on 27573 samples\n",
      "Epoch 1/10\n",
      "110288/110288 [==============================] - 19s 169us/step - loss: 2.8948 - acc: 0.4561 - val_loss: 2.2547 - val_acc: 0.4962\n",
      "Epoch 2/10\n",
      "110288/110288 [==============================] - 18s 162us/step - loss: 2.0317 - acc: 0.5322 - val_loss: 1.7681 - val_acc: 0.5586\n",
      "Epoch 3/10\n",
      "110288/110288 [==============================] - 18s 162us/step - loss: 1.6611 - acc: 0.5708 - val_loss: 1.5770 - val_acc: 0.5882\n",
      "Epoch 4/10\n",
      "110288/110288 [==============================] - 18s 162us/step - loss: 1.5109 - acc: 0.5952 - val_loss: 1.4529 - val_acc: 0.6053\n",
      "Epoch 5/10\n",
      "110288/110288 [==============================] - 18s 162us/step - loss: 1.4117 - acc: 0.6136 - val_loss: 1.3747 - val_acc: 0.6240\n",
      "Epoch 6/10\n",
      "110288/110288 [==============================] - 18s 162us/step - loss: 1.3504 - acc: 0.6258 - val_loss: 1.3712 - val_acc: 0.6152\n",
      "Epoch 7/10\n",
      "110288/110288 [==============================] - 18s 162us/step - loss: 1.3058 - acc: 0.6326 - val_loss: 1.2756 - val_acc: 0.6387\n",
      "Epoch 8/10\n",
      "110288/110288 [==============================] - 18s 162us/step - loss: 1.2640 - acc: 0.6391 - val_loss: 1.2456 - val_acc: 0.6404\n",
      "Epoch 9/10\n",
      "110288/110288 [==============================] - 18s 162us/step - loss: 1.2271 - acc: 0.6433 - val_loss: 1.2058 - val_acc: 0.6467\n",
      "Epoch 10/10\n",
      "110288/110288 [==============================] - 18s 162us/step - loss: 1.2007 - acc: 0.6461 - val_loss: 1.1921 - val_acc: 0.6472\n",
      "new jersey est parfois chaud en mois mais il est est en en <PAD> <PAD> <PAD> <PAD> <PAD> <PAD> <PAD> <PAD>\n"
     ]
    }
   ],
   "source": [
    "from keras.layers import LSTM\n",
    "\n",
    "def encdec_model(input_shape, output_sequence_length, english_vocab_size, french_vocab_size):\n",
    "    \"\"\"\n",
    "    Build and train an encoder-decoder model on x and y\n",
    "    :param input_shape: Tuple of input shape\n",
    "    :param output_sequence_length: Length of output sequence\n",
    "    :param english_vocab_size: Number of unique English words in the dataset\n",
    "    :param french_vocab_size: Number of unique French words in the dataset\n",
    "    :return: Keras model built, but not trained\n",
    "    \"\"\"\n",
    "    # Hyperparameters\n",
    "    embedding_size = 128\n",
    "    rnn_cells = 200\n",
    "    dropout = 0.0\n",
    "    learning_rate = 1e-3\n",
    "    \n",
    "    encoder_input_seq = Input(shape=input_shape[1:], name=\"enc_input\")\n",
    "    # Encoder \n",
    "    encoder_output, state_t = GRU(units=rnn_cells, \n",
    "                                  dropout=dropout,\n",
    "                                  return_sequences=False,\n",
    "                                  return_state=True,\n",
    "                                  name=\"enc_rnn\")(encoder_input_seq)\n",
    "    # Decoder Input   \n",
    "    decoder_input_seq = RepeatVector(output_sequence_length)(encoder_output)\n",
    "\n",
    "    # Decoder RNN (Take the encoder returned states as initial states)\n",
    "    decoder_out = GRU(units=rnn_cells,\n",
    "                      dropout=dropout,\n",
    "                      return_sequences=True,\n",
    "                      return_state=False)(decoder_input_seq, initial_state=state_t)\n",
    "    \n",
    "    # Decoder output \n",
    "    logits = TimeDistributed(Dense(units=french_vocab_size))(decoder_out) \n",
    "    \n",
    "    # Model\n",
    "    model = Model(encoder_input_seq, Activation('softmax')(logits))\n",
    "    model.compile(loss=sparse_categorical_crossentropy,\n",
    "                  optimizer=Adam(lr=learning_rate),\n",
    "                  metrics=['accuracy'])\n",
    "     \n",
    "    return model    \n",
    "    \n",
    "tests.test_encdec_model(encdec_model)\n",
    "\n",
    "# Pad and Reshape the input to work with the Embedding layer\n",
    "tmp_x = pad(preproc_english_sentences, max_french_sequence_length)\n",
    "tmp_x = tmp_x.reshape((-1, preproc_french_sentences.shape[-2], 1))\n",
    "\n",
    "# Train the neural network \n",
    "encdec_rnn_model = encdec_model(input_shape = tmp_x.shape,\n",
    "                                output_sequence_length = max_french_sequence_length,\n",
    "                                english_vocab_size = english_vocab_size+1,\n",
    "                                french_vocab_size = french_vocab_size+1)\n",
    "    \n",
    "encdec_rnn_model.fit(tmp_x, preproc_french_sentences, batch_size=1024, epochs=10, validation_split=0.2) # callbacks=[tensorboard]\n",
    "\n",
    "# Print prediction(s)\n",
    "print(logits_to_text(encdec_rnn_model.predict(tmp_x[:1])[0], french_tokenizer))"
   ]
  },
  {
   "cell_type": "markdown",
   "metadata": {},
   "source": [
    "### Model 5: Custom (IMPLEMENTATION)\n",
    "Use everything you learned from the previous models to create a model that incorporates embedding and a bidirectional rnn into one model."
   ]
  },
  {
   "cell_type": "code",
   "execution_count": 21,
   "metadata": {},
   "outputs": [
    {
     "name": "stdout",
     "output_type": "stream",
     "text": [
      "Final Model Loaded\n",
      "\n"
     ]
    }
   ],
   "source": [
    "from keras.layers import LSTM, concatenate\n",
    "def model_final(input_shape, output_sequence_length, english_vocab_size, french_vocab_size):\n",
    "    \"\"\"\n",
    "    Build and train a model that incorporates embedding, encoder-decoder, and bidirectional RNN on x and y\n",
    "    :param input_shape: Tuple of input shape\n",
    "    :param output_sequence_length: Length of output sequence\n",
    "    :param english_vocab_size: Number of unique English words in the dataset\n",
    "    :param french_vocab_size: Number of unique French words in the dataset\n",
    "    :return: Keras model built, but not trained\n",
    "    \"\"\"\n",
    "# TODO: Implement\n",
    "    inp = Input(shape=(input_shape[1],)) # (max_length,)\n",
    "    embed = Embedding(output_dim=100, input_dim=english_vocab_size, input_length=input_shape[1])(inp) # (max_length, 100)\n",
    "    \n",
    "    # encoder\n",
    "    bd_encoded = Bidirectional(GRU(512))(embed) # (maxlength, 128)\n",
    "    dense_encoded = Dense(128, activation='relu')(bd_encoded) # (maxlength, 100)\n",
    "    decoding_layer = RepeatVector(output_sequence_length)(dense_encoded)\n",
    "    \n",
    "    # decoder\n",
    "    decoded_gru = Bidirectional(GRU(512, return_sequences=True))(decoding_layer)\n",
    "    preds = TimeDistributed(Dense(french_vocab_size,activation='softmax'))(decoded_gru)\n",
    "    \n",
    "    model = Model(inputs=inp, outputs=preds)\n",
    "    model.compile(loss=sparse_categorical_crossentropy,\n",
    "                  optimizer=Adam(0.005),\n",
    "                  metrics=['accuracy'])\n",
    "    return model    \n",
    "tests.test_model_final(model_final)\n",
    "print('Final Model Loaded\\n')\n",
    "\n",
    "# # Pad the input to work with the Embedding layer\n",
    "# tmp_x = pad(preproc_english_sentences, max_french_sequence_length)\n",
    "\n",
    "# # Train the neural network \n",
    "# final_rnn_model = model_final(input_shape = tmp_x.shape,\n",
    "#                               output_sequence_length = max_french_sequence_length,\n",
    "#                               english_vocab_size = english_vocab_size+1,\n",
    "#                               french_vocab_size = french_vocab_size+1)\n",
    "\n",
    "# print(final_rnn_model.summary(line_length=125))\n",
    "\n",
    "\n",
    "# final_rnn_model.fit(tmp_x, preproc_french_sentences, batch_size=1024, epochs=10, validation_split=0.2)\n",
    "\n",
    "# # Print prediction(s)\n",
    "# print(logits_to_text(final_rnn_model.predict(tmp_x[:1])[0], french_tokenizer))"
   ]
  },
  {
   "cell_type": "markdown",
   "metadata": {},
   "source": [
    "## Prediction (IMPLEMENTATION)"
   ]
  },
  {
   "cell_type": "code",
   "execution_count": 22,
   "metadata": {},
   "outputs": [
    {
     "name": "stdout",
     "output_type": "stream",
     "text": [
      "Train on 110288 samples, validate on 27573 samples\n",
      "Epoch 1/25\n",
      "110288/110288 [==============================] - 71s 643us/step - loss: 2.3639 - acc: 0.4865 - val_loss: nan - val_acc: 0.6373\n",
      "Epoch 2/25\n",
      "110288/110288 [==============================] - 69s 622us/step - loss: 1.1261 - acc: 0.6853 - val_loss: nan - val_acc: 0.7137\n",
      "Epoch 3/25\n",
      "110288/110288 [==============================] - 69s 622us/step - loss: 0.8585 - acc: 0.7495 - val_loss: nan - val_acc: 0.7854\n",
      "Epoch 4/25\n",
      "110288/110288 [==============================] - 68s 620us/step - loss: 0.6065 - acc: 0.8142 - val_loss: nan - val_acc: 0.8490\n",
      "Epoch 5/25\n",
      "110288/110288 [==============================] - 69s 622us/step - loss: 0.4019 - acc: 0.8771 - val_loss: nan - val_acc: 0.8974\n",
      "Epoch 6/25\n",
      "110288/110288 [==============================] - 69s 622us/step - loss: 0.2646 - acc: 0.9198 - val_loss: nan - val_acc: 0.9327\n",
      "Epoch 7/25\n",
      "110288/110288 [==============================] - 69s 621us/step - loss: 0.1747 - acc: 0.9476 - val_loss: nan - val_acc: 0.9517\n",
      "Epoch 8/25\n",
      "110288/110288 [==============================] - 69s 622us/step - loss: 0.1359 - acc: 0.9586 - val_loss: nan - val_acc: 0.9600\n",
      "Epoch 9/25\n",
      "110288/110288 [==============================] - 69s 621us/step - loss: 0.1115 - acc: 0.9660 - val_loss: nan - val_acc: 0.9643\n",
      "Epoch 10/25\n",
      "110288/110288 [==============================] - 69s 621us/step - loss: 0.0937 - acc: 0.9710 - val_loss: nan - val_acc: 0.9633\n",
      "Epoch 11/25\n",
      "110288/110288 [==============================] - 69s 622us/step - loss: 0.0938 - acc: 0.9707 - val_loss: nan - val_acc: 0.9674\n",
      "Epoch 12/25\n",
      "110288/110288 [==============================] - 69s 622us/step - loss: 0.0759 - acc: 0.9768 - val_loss: nan - val_acc: 0.9739\n",
      "Epoch 13/25\n",
      "110288/110288 [==============================] - 69s 621us/step - loss: 0.1046 - acc: 0.9679 - val_loss: nan - val_acc: 0.9652\n",
      "Epoch 14/25\n",
      "110288/110288 [==============================] - 69s 622us/step - loss: 0.0789 - acc: 0.9757 - val_loss: nan - val_acc: 0.9721\n",
      "Epoch 15/25\n",
      "110288/110288 [==============================] - 69s 621us/step - loss: 0.0672 - acc: 0.9792 - val_loss: nan - val_acc: 0.9747\n",
      "Epoch 16/25\n",
      "110288/110288 [==============================] - 69s 621us/step - loss: 0.0579 - acc: 0.9822 - val_loss: nan - val_acc: 0.9750\n",
      "Epoch 17/25\n",
      "110288/110288 [==============================] - 69s 621us/step - loss: 0.0542 - acc: 0.9831 - val_loss: nan - val_acc: 0.9762\n",
      "Epoch 18/25\n",
      "110288/110288 [==============================] - 69s 622us/step - loss: 0.0537 - acc: 0.9836 - val_loss: nan - val_acc: 0.9702\n",
      "Epoch 19/25\n",
      "110288/110288 [==============================] - 69s 621us/step - loss: 0.0641 - acc: 0.9805 - val_loss: nan - val_acc: 0.9734\n",
      "Epoch 20/25\n",
      "110288/110288 [==============================] - 69s 622us/step - loss: 0.0543 - acc: 0.9834 - val_loss: nan - val_acc: 0.9780\n",
      "Epoch 21/25\n",
      "110288/110288 [==============================] - 69s 622us/step - loss: 0.0498 - acc: 0.9848 - val_loss: nan - val_acc: 0.9759\n",
      "Epoch 22/25\n",
      "110288/110288 [==============================] - 69s 621us/step - loss: 0.0491 - acc: 0.9852 - val_loss: nan - val_acc: 0.9779\n",
      "Epoch 23/25\n",
      "110288/110288 [==============================] - 69s 621us/step - loss: 0.0475 - acc: 0.9859 - val_loss: nan - val_acc: 0.9780\n",
      "Epoch 24/25\n",
      "110288/110288 [==============================] - 69s 622us/step - loss: 0.0378 - acc: 0.9886 - val_loss: nan - val_acc: 0.9793\n",
      "Epoch 25/25\n",
      "110288/110288 [==============================] - 68s 621us/step - loss: 0.0543 - acc: 0.9838 - val_loss: nan - val_acc: 0.9767\n",
      "Sample 1:\n",
      "il a vu un vieux camion jaune <PAD> <PAD> <PAD> <PAD> <PAD> <PAD> <PAD> <PAD> <PAD> <PAD> <PAD> <PAD> <PAD> <PAD>\n",
      "Il a vu un vieux camion jaune\n",
      "Sample 2:\n",
      "new jersey est parfois calme pendant l' automne et il est neigeux en avril <PAD> <PAD> <PAD> <PAD> <PAD> <PAD> <PAD>\n",
      "new jersey est parfois calme pendant l' automne et il est neigeux en avril <PAD> <PAD> <PAD> <PAD> <PAD> <PAD> <PAD>\n"
     ]
    }
   ],
   "source": [
    "def final_predictions(x, y, x_tk, y_tk):\n",
    "    \"\"\"\n",
    "    Gets predictions using the final model\n",
    "    :param x: Preprocessed English data\n",
    "    :param y: Preprocessed French data\n",
    "    :param x_tk: English tokenizer\n",
    "    :param y_tk: French tokenizer\n",
    "    \"\"\"\n",
    "    # TODO: Train neural network using model_final\n",
    "    max_english_sequence_length = x.shape[1]\n",
    "    max_french_sequence_length = y.shape[1]\n",
    "    english_vocab_size = len(x_tk.word_index)\n",
    "    french_vocab_size = len(y_tk.word_index)\n",
    "\n",
    "    # Pad the input\n",
    "    x = pad(x, max_french_sequence_length)\n",
    "\n",
    "    # Train\n",
    "    model = model_final(\n",
    "        x.shape,\n",
    "        max_french_sequence_length,\n",
    "        english_vocab_size,\n",
    "        french_vocab_size)\n",
    "\n",
    "    model.fit(x, y, batch_size=1024, epochs=25, validation_split=0.2)\n",
    "    \n",
    "    ## DON'T EDIT ANYTHING BELOW THIS LINE\n",
    "    y_id_to_word = {value: key for key, value in y_tk.word_index.items()}\n",
    "    y_id_to_word[0] = '<PAD>'\n",
    "\n",
    "    sentence = 'he saw a old yellow truck'\n",
    "    sentence = [x_tk.word_index[word] for word in sentence.split()]\n",
    "    sentence = pad_sequences([sentence], maxlen=x.shape[-1], padding='post')\n",
    "    sentences = np.array([sentence[0], x[0]])\n",
    "    predictions = model.predict(sentences, len(sentences))\n",
    "\n",
    "    print('Sample 1:')\n",
    "    print(' '.join([y_id_to_word[np.argmax(x)] for x in predictions[0]]))\n",
    "    print('Il a vu un vieux camion jaune')\n",
    "    print('Sample 2:')\n",
    "    print(' '.join([y_id_to_word[np.argmax(x)] for x in predictions[1]]))\n",
    "    print(' '.join([y_id_to_word[np.max(x)] for x in y[0]]))\n",
    "\n",
    "\n",
    "final_predictions(preproc_english_sentences, preproc_french_sentences, english_tokenizer, french_tokenizer)"
   ]
  },
  {
   "cell_type": "markdown",
   "metadata": {},
   "source": [
    "## Submission\n",
    "When you're ready to submit, complete the following steps:\n",
    "1. Review the [rubric](https://review.udacity.com/#!/rubrics/1004/view) to ensure your submission meets all requirements to pass\n",
    "2. Generate an HTML version of this notebook\n",
    "\n",
    "  - Run the next cell to attempt automatic generation (this is the recommended method in Workspaces)\n",
    "  - Navigate to **FILE -> Download as -> HTML (.html)**\n",
    "  - Manually generate a copy using `nbconvert` from your shell terminal\n",
    "```\n",
    "$ pip install nbconvert\n",
    "$ python -m nbconvert machine_translation.ipynb\n",
    "```\n",
    "  \n",
    "3. Submit the project\n",
    "\n",
    "  - If you are in a Workspace, simply click the \"Submit Project\" button (bottom towards the right)\n",
    "  \n",
    "  - Otherwise, add the following files into a zip archive and submit them \n",
    "  - `helper.py`\n",
    "  - `machine_translation.ipynb`\n",
    "  - `machine_translation.html`\n",
    "    - You can export the notebook by navigating to **File -> Download as -> HTML (.html)**."
   ]
  },
  {
   "cell_type": "markdown",
   "metadata": {},
   "source": [
    "### Generate the html\n",
    "\n",
    "**Save your notebook before running the next cell to generate the HTML output.** Then submit your project."
   ]
  },
  {
   "cell_type": "code",
   "execution_count": 23,
   "metadata": {},
   "outputs": [
    {
     "data": {
      "text/plain": [
       "['[NbConvertApp] Converting notebook machine_translation.ipynb to html',\n",
       " '[NbConvertApp] Writing 376185 bytes to machine_translation.html',\n",
       " '[NbConvertApp] Converting notebook machine_translation-zh.ipynb to html',\n",
       " '[NbConvertApp] Writing 328614 bytes to machine_translation-zh.html']"
      ]
     },
     "execution_count": 23,
     "metadata": {},
     "output_type": "execute_result"
    }
   ],
   "source": [
    "# Save before you run this cell!\n",
    "!!jupyter nbconvert *.ipynb"
   ]
  },
  {
   "cell_type": "markdown",
   "metadata": {},
   "source": [
    "## Optional Enhancements\n",
    "\n",
    "This project focuses on learning various network architectures for machine translation, but we don't evaluate the models according to best practices by splitting the data into separate test & training sets -- so the model accuracy is overstated. Use the [`sklearn.model_selection.train_test_split()`](http://scikit-learn.org/stable/modules/generated/sklearn.model_selection.train_test_split.html) function to create separate training & test datasets, then retrain each of the models using only the training set and evaluate the prediction accuracy using the hold out test set. Does the \"best\" model change?"
   ]
  },
  {
   "cell_type": "code",
   "execution_count": null,
   "metadata": {},
   "outputs": [],
   "source": []
  }
 ],
 "metadata": {
  "kernelspec": {
   "display_name": "Python 3",
   "language": "python",
   "name": "python3"
  },
  "language_info": {
   "codemirror_mode": {
    "name": "ipython",
    "version": 3
   },
   "file_extension": ".py",
   "mimetype": "text/x-python",
   "name": "python",
   "nbconvert_exporter": "python",
   "pygments_lexer": "ipython3",
   "version": "3.6.3"
  }
 },
 "nbformat": 4,
 "nbformat_minor": 1
}
